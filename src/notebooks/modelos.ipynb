{
 "cells": [
  {
   "cell_type": "code",
   "execution_count": 1,
   "metadata": {},
   "outputs": [],
   "source": [
    "import pandas as pd\n",
    "from sklearn.preprocessing import StandardScaler\n",
    "# from sklearn.preprocessing import OneHotEncoder\n",
    "\n",
    "from lazypredict.Supervised import LazyRegressor\n",
    "\n",
    "from sklearn.model_selection import train_test_split"
   ]
  },
  {
   "cell_type": "code",
   "execution_count": 3,
   "metadata": {},
   "outputs": [],
   "source": [
    "df = pd.read_csv(\"../data/processed/coches_limpio.csv\")"
   ]
  },
  {
   "cell_type": "code",
   "execution_count": 5,
   "metadata": {},
   "outputs": [],
   "source": [
    "train_set, test_set = train_test_split(df, test_size=0.2, random_state=42)"
   ]
  },
  {
   "cell_type": "code",
   "execution_count": 6,
   "metadata": {},
   "outputs": [],
   "source": [
    "X_train, X_val, y_train, y_val = train_test_split(train_set.drop(columns=\"price\"), train_set[[\"price\"]], test_size=0.2, random_state=42)"
   ]
  },
  {
   "cell_type": "code",
   "execution_count": 38,
   "metadata": {},
   "outputs": [
    {
     "name": "stderr",
     "output_type": "stream",
     "text": [
      "100%|██████████| 42/42 [08:24<00:00, 12.02s/it]"
     ]
    },
    {
     "name": "stdout",
     "output_type": "stream",
     "text": [
      "[LightGBM] [Info] Auto-choosing col-wise multi-threading, the overhead of testing was 0.000709 seconds.\n",
      "You can set `force_col_wise=true` to remove the overhead.\n",
      "[LightGBM] [Info] Total Bins 1469\n",
      "[LightGBM] [Info] Number of data points in the train set: 26396, number of used features: 12\n",
      "[LightGBM] [Info] Start training from score 17287.713366\n"
     ]
    },
    {
     "name": "stderr",
     "output_type": "stream",
     "text": [
      "\n"
     ]
    }
   ],
   "source": [
    "# For regression tasks \n",
    "reg = LazyRegressor(verbose=0, ignore_warnings=True, custom_metric=None)\n",
    "models, predictions = reg.fit(X_train, X_val, y_train, y_val)"
   ]
  },
  {
   "cell_type": "code",
   "execution_count": 9,
   "metadata": {},
   "outputs": [
    {
     "name": "stdout",
     "output_type": "stream",
     "text": [
      "                               Adjusted R-Squared  R-Squared     RMSE  \\\n",
      "Model                                                                   \n",
      "ExtraTreesRegressor                          0.89       0.89  5976.91   \n",
      "RandomForestRegressor                        0.88       0.88  6086.99   \n",
      "LGBMRegressor                                0.88       0.88  6208.48   \n",
      "BaggingRegressor                             0.87       0.87  6289.13   \n",
      "XGBRegressor                                 0.86       0.86  6519.10   \n",
      "HistGradientBoostingRegressor                0.86       0.86  6635.30   \n",
      "GradientBoostingRegressor                    0.85       0.85  6948.47   \n",
      "DecisionTreeRegressor                        0.78       0.78  8372.67   \n",
      "KNeighborsRegressor                          0.77       0.77  8451.96   \n",
      "PoissonRegressor                             0.77       0.77  8550.00   \n",
      "ExtraTreeRegressor                           0.73       0.73  9113.87   \n",
      "MLPRegressor                                 0.73       0.73  9165.00   \n",
      "LassoLarsIC                                  0.67       0.67 10173.06   \n",
      "Lars                                         0.67       0.67 10173.06   \n",
      "LarsCV                                       0.67       0.67 10173.06   \n",
      "LassoLarsCV                                  0.67       0.67 10173.06   \n",
      "LinearRegression                             0.67       0.67 10173.06   \n",
      "TransformedTargetRegressor                   0.67       0.67 10173.06   \n",
      "Ridge                                        0.67       0.67 10173.11   \n",
      "LassoLars                                    0.67       0.67 10173.23   \n",
      "Lasso                                        0.67       0.67 10173.24   \n",
      "BayesianRidge                                0.67       0.67 10173.42   \n",
      "RidgeCV                                      0.67       0.67 10173.56   \n",
      "LassoCV                                      0.67       0.67 10175.16   \n",
      "SGDRegressor                                 0.67       0.67 10178.20   \n",
      "OrthogonalMatchingPursuitCV                  0.67       0.67 10220.37   \n",
      "HuberRegressor                               0.61       0.61 10976.93   \n",
      "PassiveAggressiveRegressor                   0.61       0.61 11001.47   \n",
      "ElasticNet                                   0.59       0.59 11309.16   \n",
      "GaussianProcessRegressor                     0.55       0.55 11894.56   \n",
      "GammaRegressor                               0.55       0.55 11919.13   \n",
      "TweedieRegressor                             0.52       0.52 12255.25   \n",
      "RANSACRegressor                              0.51       0.51 12376.35   \n",
      "OrthogonalMatchingPursuit                    0.51       0.51 12395.20   \n",
      "LinearSVR                                    0.35       0.35 14244.74   \n",
      "AdaBoostRegressor                            0.33       0.33 14494.66   \n",
      "ElasticNetCV                                 0.14       0.14 16378.27   \n",
      "NuSVR                                        0.00       0.01 17635.47   \n",
      "DummyRegressor                              -0.00      -0.00 17696.72   \n",
      "SVR                                         -0.01      -0.00 17723.57   \n",
      "KernelRidge                                 -0.31      -0.31 20257.47   \n",
      "\n",
      "                               Time Taken  \n",
      "Model                                      \n",
      "ExtraTreesRegressor                 13.54  \n",
      "RandomForestRegressor               32.13  \n",
      "LGBMRegressor                        0.23  \n",
      "BaggingRegressor                     3.17  \n",
      "XGBRegressor                         0.22  \n",
      "HistGradientBoostingRegressor        0.50  \n",
      "GradientBoostingRegressor            5.22  \n",
      "DecisionTreeRegressor                0.42  \n",
      "KNeighborsRegressor                  1.07  \n",
      "PoissonRegressor                     0.03  \n",
      "ExtraTreeRegressor                   0.15  \n",
      "MLPRegressor                        19.08  \n",
      "LassoLarsIC                          0.03  \n",
      "Lars                                 0.02  \n",
      "LarsCV                               0.08  \n",
      "LassoLarsCV                          0.09  \n",
      "LinearRegression                     0.03  \n",
      "TransformedTargetRegressor           0.02  \n",
      "Ridge                                0.02  \n",
      "LassoLars                            0.03  \n",
      "Lasso                                0.12  \n",
      "BayesianRidge                        0.03  \n",
      "RidgeCV                              0.03  \n",
      "LassoCV                              0.24  \n",
      "SGDRegressor                         0.06  \n",
      "OrthogonalMatchingPursuitCV          0.05  \n",
      "HuberRegressor                       0.13  \n",
      "PassiveAggressiveRegressor           0.04  \n",
      "ElasticNet                           0.05  \n",
      "GaussianProcessRegressor           268.05  \n",
      "GammaRegressor                       0.13  \n",
      "TweedieRegressor                     0.03  \n",
      "RANSACRegressor                      0.19  \n",
      "OrthogonalMatchingPursuit            0.02  \n",
      "LinearSVR                            0.03  \n",
      "AdaBoostRegressor                    1.20  \n",
      "ElasticNetCV                         0.13  \n",
      "NuSVR                               23.25  \n",
      "DummyRegressor                       0.02  \n",
      "SVR                                 25.21  \n",
      "KernelRidge                        121.64  \n"
     ]
    }
   ],
   "source": [
    "print(models)"
   ]
  },
  {
   "cell_type": "code",
   "execution_count": 40,
   "metadata": {},
   "outputs": [
    {
     "data": {
      "text/html": [
       "<div>\n",
       "<style scoped>\n",
       "    .dataframe tbody tr th:only-of-type {\n",
       "        vertical-align: middle;\n",
       "    }\n",
       "\n",
       "    .dataframe tbody tr th {\n",
       "        vertical-align: top;\n",
       "    }\n",
       "\n",
       "    .dataframe thead th {\n",
       "        text-align: right;\n",
       "    }\n",
       "</style>\n",
       "<table border=\"1\" class=\"dataframe\">\n",
       "  <thead>\n",
       "    <tr style=\"text-align: right;\">\n",
       "      <th></th>\n",
       "      <th>Adjusted R-Squared</th>\n",
       "      <th>R-Squared</th>\n",
       "      <th>RMSE</th>\n",
       "      <th>Time Taken</th>\n",
       "    </tr>\n",
       "    <tr>\n",
       "      <th>Model</th>\n",
       "      <th></th>\n",
       "      <th></th>\n",
       "      <th></th>\n",
       "      <th></th>\n",
       "    </tr>\n",
       "  </thead>\n",
       "  <tbody>\n",
       "    <tr>\n",
       "      <th>ExtraTreesRegressor</th>\n",
       "      <td>0.89</td>\n",
       "      <td>0.89</td>\n",
       "      <td>5865.83</td>\n",
       "      <td>13.17</td>\n",
       "    </tr>\n",
       "    <tr>\n",
       "      <th>RandomForestRegressor</th>\n",
       "      <td>0.88</td>\n",
       "      <td>0.88</td>\n",
       "      <td>6089.13</td>\n",
       "      <td>28.87</td>\n",
       "    </tr>\n",
       "    <tr>\n",
       "      <th>LGBMRegressor</th>\n",
       "      <td>0.88</td>\n",
       "      <td>0.88</td>\n",
       "      <td>6166.05</td>\n",
       "      <td>0.18</td>\n",
       "    </tr>\n",
       "    <tr>\n",
       "      <th>BaggingRegressor</th>\n",
       "      <td>0.87</td>\n",
       "      <td>0.87</td>\n",
       "      <td>6384.21</td>\n",
       "      <td>3.07</td>\n",
       "    </tr>\n",
       "    <tr>\n",
       "      <th>HistGradientBoostingRegressor</th>\n",
       "      <td>0.86</td>\n",
       "      <td>0.86</td>\n",
       "      <td>6639.17</td>\n",
       "      <td>0.58</td>\n",
       "    </tr>\n",
       "  </tbody>\n",
       "</table>\n",
       "</div>"
      ],
      "text/plain": [
       "                               Adjusted R-Squared  R-Squared    RMSE  \\\n",
       "Model                                                                  \n",
       "ExtraTreesRegressor                          0.89       0.89 5865.83   \n",
       "RandomForestRegressor                        0.88       0.88 6089.13   \n",
       "LGBMRegressor                                0.88       0.88 6166.05   \n",
       "BaggingRegressor                             0.87       0.87 6384.21   \n",
       "HistGradientBoostingRegressor                0.86       0.86 6639.17   \n",
       "\n",
       "                               Time Taken  \n",
       "Model                                      \n",
       "ExtraTreesRegressor                 13.17  \n",
       "RandomForestRegressor               28.87  \n",
       "LGBMRegressor                        0.18  \n",
       "BaggingRegressor                     3.07  \n",
       "HistGradientBoostingRegressor        0.58  "
      ]
     },
     "execution_count": 40,
     "metadata": {},
     "output_type": "execute_result"
    }
   ],
   "source": [
    "predictions.head()"
   ]
  },
  {
   "cell_type": "code",
   "execution_count": 7,
   "metadata": {},
   "outputs": [],
   "source": [
    "sc = StandardScaler()\n",
    "sc.fit(X_train)\n",
    "X_train_s = sc.transform(X_train)\n",
    "X_test_s = sc.transform(X_val)"
   ]
  },
  {
   "cell_type": "code",
   "execution_count": 8,
   "metadata": {},
   "outputs": [
    {
     "name": "stderr",
     "output_type": "stream",
     "text": [
      "100%|██████████| 42/42 [08:36<00:00, 12.30s/it]"
     ]
    },
    {
     "name": "stdout",
     "output_type": "stream",
     "text": [
      "[LightGBM] [Info] Auto-choosing row-wise multi-threading, the overhead of testing was 0.001454 seconds.\n",
      "You can set `force_row_wise=true` to remove the overhead.\n",
      "And if memory is not enough, you can set `force_col_wise=true`.\n",
      "[LightGBM] [Info] Total Bins 1472\n",
      "[LightGBM] [Info] Number of data points in the train set: 26396, number of used features: 13\n",
      "[LightGBM] [Info] Start training from score 17287.713366\n"
     ]
    },
    {
     "name": "stderr",
     "output_type": "stream",
     "text": [
      "\n"
     ]
    }
   ],
   "source": [
    "reg = LazyRegressor(verbose=0, ignore_warnings=True, custom_metric=None)\n",
    "models, predictions = reg.fit(X_train_s, X_test_s, y_train, y_val)"
   ]
  },
  {
   "cell_type": "code",
   "execution_count": 13,
   "metadata": {},
   "outputs": [
    {
     "data": {
      "text/html": [
       "<div>\n",
       "<style scoped>\n",
       "    .dataframe tbody tr th:only-of-type {\n",
       "        vertical-align: middle;\n",
       "    }\n",
       "\n",
       "    .dataframe tbody tr th {\n",
       "        vertical-align: top;\n",
       "    }\n",
       "\n",
       "    .dataframe thead th {\n",
       "        text-align: right;\n",
       "    }\n",
       "</style>\n",
       "<table border=\"1\" class=\"dataframe\">\n",
       "  <thead>\n",
       "    <tr style=\"text-align: right;\">\n",
       "      <th></th>\n",
       "      <th>Unnamed: 0</th>\n",
       "      <th>make</th>\n",
       "      <th>model</th>\n",
       "      <th>fuel</th>\n",
       "      <th>year</th>\n",
       "      <th>kms</th>\n",
       "      <th>power</th>\n",
       "      <th>doors</th>\n",
       "      <th>shift</th>\n",
       "      <th>color</th>\n",
       "      <th>photos</th>\n",
       "      <th>province</th>\n",
       "    </tr>\n",
       "  </thead>\n",
       "  <tbody>\n",
       "    <tr>\n",
       "      <th>count</th>\n",
       "      <td>6600.00</td>\n",
       "      <td>6600.00</td>\n",
       "      <td>6600.00</td>\n",
       "      <td>6600.00</td>\n",
       "      <td>6600.00</td>\n",
       "      <td>6600.00</td>\n",
       "      <td>6600.00</td>\n",
       "      <td>6600.00</td>\n",
       "      <td>6600.00</td>\n",
       "      <td>6600.00</td>\n",
       "      <td>6600.00</td>\n",
       "      <td>6600.00</td>\n",
       "    </tr>\n",
       "    <tr>\n",
       "      <th>mean</th>\n",
       "      <td>24783.55</td>\n",
       "      <td>38.36</td>\n",
       "      <td>414.33</td>\n",
       "      <td>1.58</td>\n",
       "      <td>2013.88</td>\n",
       "      <td>96827.45</td>\n",
       "      <td>147.57</td>\n",
       "      <td>4.52</td>\n",
       "      <td>0.66</td>\n",
       "      <td>1580.05</td>\n",
       "      <td>18.64</td>\n",
       "      <td>25.62</td>\n",
       "    </tr>\n",
       "    <tr>\n",
       "      <th>std</th>\n",
       "      <td>14421.14</td>\n",
       "      <td>22.08</td>\n",
       "      <td>252.41</td>\n",
       "      <td>2.01</td>\n",
       "      <td>5.80</td>\n",
       "      <td>79552.73</td>\n",
       "      <td>71.89</td>\n",
       "      <td>0.85</td>\n",
       "      <td>0.47</td>\n",
       "      <td>915.18</td>\n",
       "      <td>12.24</td>\n",
       "      <td>14.76</td>\n",
       "    </tr>\n",
       "    <tr>\n",
       "      <th>min</th>\n",
       "      <td>3.00</td>\n",
       "      <td>0.00</td>\n",
       "      <td>1.00</td>\n",
       "      <td>0.00</td>\n",
       "      <td>1982.00</td>\n",
       "      <td>0.00</td>\n",
       "      <td>29.00</td>\n",
       "      <td>2.00</td>\n",
       "      <td>0.00</td>\n",
       "      <td>8.00</td>\n",
       "      <td>0.00</td>\n",
       "      <td>0.00</td>\n",
       "    </tr>\n",
       "    <tr>\n",
       "      <th>25%</th>\n",
       "      <td>12365.75</td>\n",
       "      <td>21.00</td>\n",
       "      <td>191.00</td>\n",
       "      <td>0.00</td>\n",
       "      <td>2011.00</td>\n",
       "      <td>29113.50</td>\n",
       "      <td>110.00</td>\n",
       "      <td>4.00</td>\n",
       "      <td>0.00</td>\n",
       "      <td>881.00</td>\n",
       "      <td>9.00</td>\n",
       "      <td>8.00</td>\n",
       "    </tr>\n",
       "    <tr>\n",
       "      <th>50%</th>\n",
       "      <td>24525.50</td>\n",
       "      <td>44.00</td>\n",
       "      <td>413.00</td>\n",
       "      <td>0.00</td>\n",
       "      <td>2016.00</td>\n",
       "      <td>84000.00</td>\n",
       "      <td>130.00</td>\n",
       "      <td>5.00</td>\n",
       "      <td>1.00</td>\n",
       "      <td>1577.00</td>\n",
       "      <td>15.00</td>\n",
       "      <td>29.00</td>\n",
       "    </tr>\n",
       "    <tr>\n",
       "      <th>75%</th>\n",
       "      <td>37184.50</td>\n",
       "      <td>55.00</td>\n",
       "      <td>639.00</td>\n",
       "      <td>4.00</td>\n",
       "      <td>2018.00</td>\n",
       "      <td>147000.00</td>\n",
       "      <td>163.00</td>\n",
       "      <td>5.00</td>\n",
       "      <td>1.00</td>\n",
       "      <td>2592.00</td>\n",
       "      <td>26.00</td>\n",
       "      <td>37.00</td>\n",
       "    </tr>\n",
       "    <tr>\n",
       "      <th>max</th>\n",
       "      <td>49993.00</td>\n",
       "      <td>70.00</td>\n",
       "      <td>878.00</td>\n",
       "      <td>6.00</td>\n",
       "      <td>2021.00</td>\n",
       "      <td>525000.00</td>\n",
       "      <td>700.00</td>\n",
       "      <td>5.00</td>\n",
       "      <td>1.00</td>\n",
       "      <td>3527.00</td>\n",
       "      <td>54.00</td>\n",
       "      <td>51.00</td>\n",
       "    </tr>\n",
       "  </tbody>\n",
       "</table>\n",
       "</div>"
      ],
      "text/plain": [
       "       Unnamed: 0    make   model    fuel    year       kms   power   doors  \\\n",
       "count     6600.00 6600.00 6600.00 6600.00 6600.00   6600.00 6600.00 6600.00   \n",
       "mean     24783.55   38.36  414.33    1.58 2013.88  96827.45  147.57    4.52   \n",
       "std      14421.14   22.08  252.41    2.01    5.80  79552.73   71.89    0.85   \n",
       "min          3.00    0.00    1.00    0.00 1982.00      0.00   29.00    2.00   \n",
       "25%      12365.75   21.00  191.00    0.00 2011.00  29113.50  110.00    4.00   \n",
       "50%      24525.50   44.00  413.00    0.00 2016.00  84000.00  130.00    5.00   \n",
       "75%      37184.50   55.00  639.00    4.00 2018.00 147000.00  163.00    5.00   \n",
       "max      49993.00   70.00  878.00    6.00 2021.00 525000.00  700.00    5.00   \n",
       "\n",
       "        shift   color  photos  province  \n",
       "count 6600.00 6600.00 6600.00   6600.00  \n",
       "mean     0.66 1580.05   18.64     25.62  \n",
       "std      0.47  915.18   12.24     14.76  \n",
       "min      0.00    8.00    0.00      0.00  \n",
       "25%      0.00  881.00    9.00      8.00  \n",
       "50%      1.00 1577.00   15.00     29.00  \n",
       "75%      1.00 2592.00   26.00     37.00  \n",
       "max      1.00 3527.00   54.00     51.00  "
      ]
     },
     "execution_count": 13,
     "metadata": {},
     "output_type": "execute_result"
    }
   ],
   "source": [
    "X_val.describe()"
   ]
  },
  {
   "cell_type": "code",
   "execution_count": 11,
   "metadata": {},
   "outputs": [
    {
     "name": "stdout",
     "output_type": "stream",
     "text": [
      "                               Adjusted R-Squared  R-Squared    RMSE  \\\n",
      "Model                                                                  \n",
      "ExtraTreesRegressor                          0.89       0.89 5976.91   \n",
      "RandomForestRegressor                        0.88       0.88 6086.99   \n",
      "LGBMRegressor                                0.88       0.88 6208.48   \n",
      "BaggingRegressor                             0.87       0.87 6289.13   \n",
      "XGBRegressor                                 0.86       0.86 6519.10   \n",
      "HistGradientBoostingRegressor                0.86       0.86 6635.30   \n",
      "GradientBoostingRegressor                    0.85       0.85 6948.47   \n",
      "DecisionTreeRegressor                        0.78       0.78 8372.67   \n",
      "KNeighborsRegressor                          0.77       0.77 8451.96   \n",
      "PoissonRegressor                             0.77       0.77 8550.00   \n",
      "\n",
      "                               Time Taken  \n",
      "Model                                      \n",
      "ExtraTreesRegressor                 13.54  \n",
      "RandomForestRegressor               32.13  \n",
      "LGBMRegressor                        0.23  \n",
      "BaggingRegressor                     3.17  \n",
      "XGBRegressor                         0.22  \n",
      "HistGradientBoostingRegressor        0.50  \n",
      "GradientBoostingRegressor            5.22  \n",
      "DecisionTreeRegressor                0.42  \n",
      "KNeighborsRegressor                  1.07  \n",
      "PoissonRegressor                     0.03  \n"
     ]
    }
   ],
   "source": [
    "print(models[:10])"
   ]
  },
  {
   "cell_type": "markdown",
   "metadata": {},
   "source": [
    "No vale la pena hacer una estadarización de los datos, el random forest mejora un poquito pero nada más"
   ]
  },
  {
   "cell_type": "markdown",
   "metadata": {},
   "source": [
    "El mejor modelo es ExtraTreesRegressor seguido de RandomForestRegressor, por lo que voy a centrarme en estos 2"
   ]
  },
  {
   "cell_type": "code",
   "execution_count": null,
   "metadata": {},
   "outputs": [],
   "source": []
  }
 ],
 "metadata": {
  "kernelspec": {
   "display_name": ".venv",
   "language": "python",
   "name": "python3"
  },
  "language_info": {
   "codemirror_mode": {
    "name": "ipython",
    "version": 3
   },
   "file_extension": ".py",
   "mimetype": "text/x-python",
   "name": "python",
   "nbconvert_exporter": "python",
   "pygments_lexer": "ipython3",
   "version": "3.10.5"
  }
 },
 "nbformat": 4,
 "nbformat_minor": 2
}
